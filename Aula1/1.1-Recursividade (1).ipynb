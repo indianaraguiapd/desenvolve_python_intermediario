{
 "cells": [
  {
   "cell_type": "markdown",
   "id": "c87bc264",
   "metadata": {},
   "source": [
    "> Projeto Desenvolve <br>\n",
    "Programação Intermediária com Python <br>\n",
    "Profa. Camila Laranjeira (mila@projetodesenvolve.com.br) <br>\n",
    "\n",
    "# 1.1 - Recursividade"
   ]
  },
  {
   "cell_type": "markdown",
   "id": "02e47197",
   "metadata": {},
   "source": [
    "## Exercícios:\n",
    "\n",
    "#### **Q1**. \n",
    "Faça um procedimento recursivo que receba dois valores inteiros `a` e `b` e imprime o intervalo fechado entre eles. Se `a > b` imprima uma mensagem de erro.\n",
    "\n",
    "| Entrada |  Saída |\n",
    "| ------- | ------ |\n",
    "| 1 10    | 1 2 3 4 5 6 7 8 9 10 |\n",
    "| -5 1    | -5 -4 -3 -2 -1 |\n",
    "| 5 -5    | Valores invalidos |\n",
    "| 17 20   | 17 18 19 20 |"
   ]
  },
  {
   "cell_type": "code",
   "execution_count": 12,
   "id": "d972a1dc-3ea9-4d47-87c2-f7fb31822384",
   "metadata": {},
   "outputs": [
    {
     "name": "stdout",
     "output_type": "stream",
     "text": [
      "1 2 3 4 5 6 7 8 9 10\n",
      "\n",
      "Valores inválidos\n",
      "\n",
      "5\n",
      "\n",
      "17 18 19 20\n",
      "\n",
      "Valores inválidos\n"
     ]
    }
   ],
   "source": [
    "def imprimir_intervalo(a, b):\n",
    "    if a > b:\n",
    "        print(\"Valores inválidos\")\n",
    "        return\n",
    "    if a == b:\n",
    "        print(a)\n",
    "    else:\n",
    "        print(a, end=\" \")\n",
    "        imprimir_intervalo(a + 1, b)\n",
    "\n",
    "# Testes\n",
    "imprimir_intervalo(1, 10)\n",
    "print()\n",
    "imprimir_intervalo(5, -1)\n",
    "print()\n",
    "imprimir_intervalo(5, 5)\n",
    "print()\n",
    "imprimir_intervalo(17, 20)\n",
    "print()\n",
    "imprimir_intervalo(10, 1)  # Teste de valores inválidos"
   ]
  },
  {
   "cell_type": "markdown",
   "id": "b48196ed",
   "metadata": {},
   "source": [
    "---\n",
    "\n",
    "\n",
    "#### **Q2**. \n",
    "Mudando **apenas uma linha**, altere o código anterior para imprimir o intervalo invertido.\n",
    "\n",
    "| Entrada |  Saída |\n",
    "| ------- | ------ |\n",
    "| 1 10    | 10 9 8 7 6 5 4 3 2 1 |\n",
    "| -5 1    | -1 -2 -3 -4 -5 |\n",
    "| 5 -5    | Valores invalidos |\n",
    "| 17 20   | 20 19 18 17 |"
   ]
  },
  {
   "cell_type": "code",
   "execution_count": 11,
   "id": "4d0c21b4",
   "metadata": {},
   "outputs": [
    {
     "name": "stdout",
     "output_type": "stream",
     "text": [
      "10\n",
      "9 8 7 6 5 4 3 2 1 \n",
      "Valores inválidos\n",
      "\n",
      "5\n",
      "\n",
      "20\n",
      "19 18 17 \n",
      "Valores inválidos\n"
     ]
    }
   ],
   "source": [
    "def imprimir_intervalo(a, b):\n",
    "    if a > b:\n",
    "        print(\"Valores inválidos\")\n",
    "        return\n",
    "    if a == b:\n",
    "        print(a)\n",
    "    else:\n",
    "        imprimir_intervalo(a + 1, b)  # Alteração feita aqui: chamamos a função primeiro\n",
    "        print(a, end=\" \")  # Depois imprimimos o número\n",
    "\n",
    "# Testes\n",
    "imprimir_intervalo(1, 10)\n",
    "print()\n",
    "imprimir_intervalo(5, -1)\n",
    "print()\n",
    "imprimir_intervalo(5, 5)\n",
    "print()\n",
    "imprimir_intervalo(17, 20)\n",
    "print()\n",
    "imprimir_intervalo(10, 1)  # Teste de valores inválidos"
   ]
  },
  {
   "cell_type": "markdown",
   "id": "be727074",
   "metadata": {},
   "source": [
    "\n",
    "\n",
    "---\n",
    "\n",
    "\n",
    "#### **Q3**. \n",
    "Escreva uma função recursiva que recebe um inteiro `n > 1` e calcula a soma dos valores entre `n` e `1`.\n",
    "\n",
    "| Entrada |  Saída |\n",
    "| ------- | ------ |\n",
    "| 5   | 15 |\n",
    "| 13  | 78 |"
   ]
  },
  {
   "cell_type": "code",
   "execution_count": null,
   "id": "c4da98b8",
   "metadata": {},
   "outputs": [],
   "source": []
  },
  {
   "cell_type": "markdown",
   "id": "4142b276",
   "metadata": {},
   "source": [
    "\n",
    "\n",
    "---\n",
    "\n",
    "\n",
    "#### **Q4**.  \n",
    "\n",
    "Escreva uma função recursiva que recebe um inteiro `n` e verifica se `n`é um valor primo, ou seja, se é divisível apenas por si mesmo e por `1`."
   ]
  },
  {
   "cell_type": "code",
   "execution_count": 13,
   "id": "4c96eb2d",
   "metadata": {},
   "outputs": [
    {
     "name": "stdin",
     "output_type": "stream",
     "text": [
      "Digite um número:  10\n"
     ]
    },
    {
     "name": "stdout",
     "output_type": "stream",
     "text": [
      "10 não é um número primo.\n"
     ]
    }
   ],
   "source": [
    "def eh_primo_rec(n, divisor=None):\n",
    "    if n < 2:\n",
    "        return False  # Números menores que 2 não são primos\n",
    "    if divisor is None:\n",
    "        divisor = n - 1  # Começa verificando a divisibilidade por n-1\n",
    "    if divisor == 1:\n",
    "        return True  # Se chegou até 1, então é primo\n",
    "    if n % divisor == 0:\n",
    "        return False  # Se for divisível por algum número além de 1 e ele mesmo, não é primo\n",
    "    return eh_primo_rec(n, divisor - 1)  # Chamada recursiva reduzindo o divisor\n",
    "\n",
    "# Teste da função\n",
    "n = int(input(\"Digite um número: \"))\n",
    "if eh_primo_rec(n):\n",
    "    print(f\"{n} é um número primo.\")\n",
    "else:\n",
    "    print(f\"{n} não é um número primo.\")"
   ]
  },
  {
   "cell_type": "markdown",
   "id": "2a0ae81c",
   "metadata": {},
   "source": [
    "\n",
    "\n",
    "---\n",
    "\n",
    "\n",
    "#### **Q5**. \n",
    "Implemente uma função recursiva que recebe um número inteiro decimal e retorna sua representação binária como uma string. Para realizar essa conversão, utilize o método de divisão sucessiva, onde você divide o número decimal por 2 e coleta os restos até que o quociente seja zero. A ordem dos restos coletados, de baixo para cima, forma o número binário correspondente.\n",
    "\n",
    "**Exemplo de Conversão:**\n",
    "\n",
    "Para converter o número decimal 13 para binário:\n",
    "```\n",
    "13 ÷ 2 = 6, resto 1\n",
    "6 ÷ 2 = 3, resto 0\n",
    "3 ÷ 2 = 1, resto 1\n",
    "1 ÷ 2 = 0, resto 1\n",
    "```\n",
    "Lendo os restos de baixo para cima, obtemos o número binário `1101`."
   ]
  },
  {
   "cell_type": "code",
   "execution_count": 15,
   "id": "a7d954f0",
   "metadata": {},
   "outputs": [
    {
     "name": "stdin",
     "output_type": "stream",
     "text": [
      "Digite um número decimal:  13\n"
     ]
    },
    {
     "name": "stdout",
     "output_type": "stream",
     "text": [
      "O número 13 em binário é: 1101\n"
     ]
    }
   ],
   "source": [
    "def decimal_para_binario(n):\n",
    "    if n == 0:\n",
    "        return \"0\"\n",
    "    if n == 1:\n",
    "        return \"1\"\n",
    "    return decimal_para_binario(n // 2) + str(n % 2)\n",
    "\n",
    "n = int(input(\"Digite um número decimal: \"))\n",
    "print(f\"O número {n} em binário é: {decimal_para_binario(n)}\")"
   ]
  },
  {
   "cell_type": "markdown",
   "id": "0f500709",
   "metadata": {},
   "source": [
    "\n",
    "\n",
    "---\n",
    "\n",
    "\n",
    "#### **Extra**: \n",
    "\n",
    "Implemente uma função recursiva em Python que realiza a travessia em pré-ordem de uma árvore binária representada por listas aninhadas. Na travessia em pré-ordem (ou pré-fixada), o nó raiz é visitado primeiro, seguido pela subárvore esquerda e, por fim, pela subárvore direita. A questão fixa as constantes `RAIZ_IDX, ESQ_IDX, DIR_IDX` representando os índices da lista onde se encontra o valor raíz, o nó a esquerda e o nó a direita.\n",
    "\n",
    "```\n",
    "# Representação visual da árvore\n",
    "       4\n",
    "      / \\\n",
    "     2   5\n",
    "    / \\\n",
    "   1   3\n",
    "```"
   ]
  },
  {
   "cell_type": "code",
   "execution_count": 17,
   "id": "10df4831",
   "metadata": {},
   "outputs": [
    {
     "name": "stdout",
     "output_type": "stream",
     "text": [
      "Travessia em pré-ordem: [4, 2, 1, 3, 5]\n"
     ]
    }
   ],
   "source": [
    "# Definição dos índices fixos\n",
    "RAIZ_IDX, ESQ_IDX, DIR_IDX = 0, 1, 2\n",
    "\n",
    "def pre_ordem(arvore):\n",
    "    if arvore is None:\n",
    "        return []\n",
    "    \n",
    "    raiz = arvore[RAIZ_IDX]  # Obtém o valor da raiz\n",
    "    esquerda = pre_ordem(arvore[ESQ_IDX]) if arvore[ESQ_IDX] else []\n",
    "    direita = pre_ordem(arvore[DIR_IDX]) if arvore[DIR_IDX] else []\n",
    "    \n",
    "    return [raiz] + esquerda + direita  # Concatena os resultados na ordem correta\n",
    "\n",
    "# Definição da árvore binária como listas aninhadas\n",
    "arvore = [\n",
    "    4,\n",
    "    [  # Subárvore esquerda\n",
    "        2,\n",
    "        [1, None, None],\n",
    "        [3, None, None]\n",
    "    ],\n",
    "    [  # Subárvore direita\n",
    "        5,\n",
    "        None,\n",
    "        None\n",
    "    ]\n",
    "]\n",
    "\n",
    "# Executa a travessia em pré-ordem\n",
    "resultado = pre_ordem(arvore)\n",
    "print(\"Travessia em pré-ordem:\", resultado)"
   ]
  },
  {
   "cell_type": "code",
   "execution_count": null,
   "id": "61c0df6f-d6ff-4354-8b1b-94df485c3ac6",
   "metadata": {},
   "outputs": [],
   "source": []
  }
 ],
 "metadata": {
  "kernelspec": {
   "display_name": "anaconda-2024.02-py310",
   "language": "python",
   "name": "conda-env-anaconda-2024.02-py310-py"
  },
  "language_info": {
   "codemirror_mode": {
    "name": "ipython",
    "version": 3
   },
   "file_extension": ".py",
   "mimetype": "text/x-python",
   "name": "python",
   "nbconvert_exporter": "python",
   "pygments_lexer": "ipython3",
   "version": "3.10.14"
  }
 },
 "nbformat": 4,
 "nbformat_minor": 5
}
